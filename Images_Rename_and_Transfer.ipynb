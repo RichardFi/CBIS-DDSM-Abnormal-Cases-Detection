{
 "cells": [
  {
   "cell_type": "code",
   "execution_count": 1,
   "metadata": {},
   "outputs": [],
   "source": [
    "import numpy as np\n",
    "import pandas as pd\n",
    "import os\n",
    "import re\n",
    "import shutil\n",
    "from shutil import move"
   ]
  },
  {
   "cell_type": "code",
   "execution_count": 2,
   "metadata": {},
   "outputs": [],
   "source": [
    "def rename_and_move_files (path, origin_dir, dest_dir):\n",
    "    directories = os.listdir(path + origin_dir)\n",
    "    \n",
    "    for directory in directories: \n",
    "        subdirs = os.listdir(path + origin_dir + \"/\" + directory)\n",
    "        \n",
    "        i = 1\n",
    "        for subdir in subdirs:\n",
    "            subsubdirs = os.listdir(path + origin_dir + \"/\" + directory + \"/\" + subdir)\n",
    "            \n",
    "            for subsubdir in subsubdirs:\n",
    "                files = os.listdir(path + origin_dir + \"/\" + directory + \"/\" + subdir + \"/\" + subsubdir)\n",
    "                \n",
    "                j = 1\n",
    "                for file in files:\n",
    "                    \n",
    "                    patient_id = str(re.findall(\"_(P_[\\d]+)_\", directory))[2:-2]\n",
    "                    image_side = str(re.findall(\"_(LEFT|RIGHT)_\", directory))[2:-2]\n",
    "                    image_type = str(re.findall(\"(CC|MLO)\", directory))[2:-2]\n",
    "                    file_no = str(re.findall(\"(_[^_]+$)\", directory))[2:-2]\n",
    "                    i = str(i)\n",
    "                    j = str(j)\n",
    "                                       \n",
    "                    files_origin_path = os.listdir(path + origin_dir + \"/\" + directory + \"/\" + subdir + \"/\" + subsubdir + \"/\")\n",
    "                    \n",
    "                    new_name = patient_id + \"_\" + image_side + \"_\" + image_type + \"_\" + file_no + \"_\" + i + j + \".dcm\"\n",
    "                    \n",
    "                    os.rename(os.path.join(path, origin_dir, directory, subdir, subsubdir, file),os.path.join(path, dest_dir, new_name))\n",
    "                                        \n",
    "                    i = int(i)\n",
    "                    j = int(j)\n",
    "                    i += 1\n",
    "                    j += 1\n"
   ]
  },
  {
   "cell_type": "code",
   "execution_count": 6,
   "metadata": {
    "scrolled": true
   },
   "outputs": [],
   "source": [
    "rename_and_move_files(\"CBIS-DDSM/train/\", origin_dir = \"Mass\", dest_dir = \"Mass_All_DICOM\")\n",
    "rename_and_move_files(\"CBIS-DDSM/train/\", origin_dir = \"Calc\", dest_dir = \"Calc_All_DICOM\")"
   ]
  },
  {
   "cell_type": "code",
   "execution_count": 8,
   "metadata": {},
   "outputs": [],
   "source": [
    "rename_and_move_files(\"CBIS-DDSM/test/\", origin_dir = \"Mass\", dest_dir = \"Mass_All_DICOM\")\n",
    "rename_and_move_files(\"CBIS-DDSM/test/\", origin_dir = \"Calc\", dest_dir = \"Calc_All_DICOM\")"
   ]
  }
 ],
 "metadata": {
  "kernelspec": {
   "display_name": "Python 3",
   "language": "python",
   "name": "python3"
  },
  "language_info": {
   "codemirror_mode": {
    "name": "ipython",
    "version": 3
   },
   "file_extension": ".py",
   "mimetype": "text/x-python",
   "name": "python",
   "nbconvert_exporter": "python",
   "pygments_lexer": "ipython3",
   "version": "3.7.6"
  }
 },
 "nbformat": 4,
 "nbformat_minor": 4
}
